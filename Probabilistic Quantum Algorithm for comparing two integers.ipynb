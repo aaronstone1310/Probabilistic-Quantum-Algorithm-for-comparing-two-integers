{
 "cells": [
  {
   "cell_type": "code",
   "execution_count": 116,
   "id": "0da4cd08-0b12-4880-a2c8-d71afb987935",
   "metadata": {},
   "outputs": [
    {
     "name": "stderr",
     "output_type": "stream",
     "text": [
      "ibmqfactory.load_account:WARNING:2023-03-05 11:11:14,101: Credentials are already in use. The existing account in the session will be replaced.\n"
     ]
    }
   ],
   "source": [
    "import numpy as np\n",
    "\n",
    "# Importing standard Qiskit libraries\n",
    "from qiskit import *\n",
    "from qiskit.tools.jupyter import *\n",
    "from qiskit.visualization import *\n",
    "from ibm_quantum_widgets import *\n",
    "from qiskit.providers.aer import QasmSimulator\n",
    "sim = Aer.get_backend('aer_simulator')\n",
    "# Loading your IBM Quantum account(s)\n",
    "provider = IBMQ.load_account()"
   ]
  },
  {
   "cell_type": "code",
   "execution_count": 117,
   "id": "37a25d71-c241-47f2-ac4b-af20ff184b64",
   "metadata": {},
   "outputs": [
    {
     "name": "stderr",
     "output_type": "stream",
     "text": [
      "/tmp/ipykernel_59/4171598134.py:10: RuntimeWarning: overflow encountered in exp\n",
      "  return 1/(1+np.exp(-z))\n"
     ]
    }
   ],
   "source": [
    "a=11\n",
    "b=6\n",
    "# a nd b are two numbers that we need to compare\n",
    "n=101  #call it as accuracy factoe #need to be only odd but can be as large as you want,also theorectically but limited by you specific system memory here\n",
    "\n",
    "x= (a+2-b)/2\n",
    "y= (-a+2+b)/2\n",
    "\n",
    "def sigmoid(z):\n",
    "    return 1/(1+np.exp(-z))\n",
    "    \n",
    "xnew= sigmoid(x**n)/np.sqrt(((sigmoid(x**n))**2)+((sigmoid(y**n))**2))\n",
    "ynew= sigmoid(y**n)/np.sqrt(((sigmoid(x**n))**2)+((sigmoid(y**n))**2))\n",
    "\n",
    "\n",
    "\n",
    "                          \n"
   ]
  },
  {
   "cell_type": "code",
   "execution_count": 118,
   "id": "e2add370-96af-4cc6-b6fb-9c3516bca551",
   "metadata": {},
   "outputs": [
    {
     "data": {
      "text/plain": [
       "<qiskit.circuit.instructionset.InstructionSet at 0x7f03d17d1a30>"
      ]
     },
     "execution_count": 118,
     "metadata": {},
     "output_type": "execute_result"
    }
   ],
   "source": [
    "\n",
    "qc= QuantumCircuit(1,1)\n",
    "\n",
    "vector=[xnew,ynew]\n",
    "initial_state = vector/np.linalg.norm(vector) #normalized it again to be just sure and compensate for any precision error\n",
    "qc.initialize(vector,0) "
   ]
  },
  {
   "cell_type": "code",
   "execution_count": 119,
   "id": "8cca5509-59d4-4860-8a62-141f6f869535",
   "metadata": {},
   "outputs": [
    {
     "data": {
      "text/plain": [
       "<qiskit.circuit.instructionset.InstructionSet at 0x7f03d2b75340>"
      ]
     },
     "execution_count": 119,
     "metadata": {},
     "output_type": "execute_result"
    }
   ],
   "source": [
    "qc.measure(0,0)"
   ]
  },
  {
   "cell_type": "code",
   "execution_count": 120,
   "id": "6dea413f-502e-41fa-86f3-c40c781591c6",
   "metadata": {},
   "outputs": [
    {
     "data": {
      "image/png": "[encoded data removed]",
      "text/plain": [
       "<Figure size 504x360 with 1 Axes>"
      ]
     },
     "execution_count": 120,
     "metadata": {},
     "output_type": "execute_result"
    }
   ],
   "source": [
    "qobj = assemble(qc)\n",
    "result = sim.run(qobj).result()\n",
    "counts = result.get_counts()\n",
    "plot_histogram(counts)"
   ]
  }
 ],
 "metadata": {
  "kernelspec": {
   "display_name": "Python 3 (ipykernel)",
   "language": "python",
   "name": "python3"
  },
  "language_info": {
   "codemirror_mode": {
    "name": "ipython",
    "version": 3
   },
   "file_extension": ".py",
   "mimetype": "text/x-python",
   "name": "python",
   "nbconvert_exporter": "python",
   "pygments_lexer": "ipython3",
   "version": "3.8.15"
  },
  "widgets": {
   "application/vnd.jupyter.widget-state+json": {
    "state": {
     "0f8685c119604a4894190dc7366382ad": {
      "model_module": "@jupyter-widgets/controls",
      "model_module_version": "1.5.0",
      "model_name": "HTMLModel",
      "state": {
       "layout": "IPY_MODEL_da8cedfc64b447fba266e905e010e885",
       "style": "IPY_MODEL_51facf236fd04db4b08c9f251509d1a1",
       "value": "<p style='font-family: IBM Plex Sans, Arial, Helvetica, sans-serif; font-size: 20px; font-weight: medium;'>Circuit Properties</p>"
      }
     },
     "154f3a5857a3441996d5ff484b66fc7a": {
      "model_module": "@jupyter-widgets/base",
      "model_module_version": "1.2.0",
      "model_name": "LayoutModel",
      "state": {
       "width": "70px"
      }
     },
     "222baf614ae44b95b87eb2429199d4de": {
      "model_module": "@jupyter-widgets/controls",
      "model_module_version": "1.5.0",
      "model_name": "DescriptionStyleModel",
      "state": {
       "description_width": ""
      }
     },
     "385f699f53e5454fab7ec54ebf7bf3d4": {
      "model_module": "@jupyter-widgets/controls",
      "model_module_version": "1.5.0",
      "model_name": "DescriptionStyleModel",
      "state": {
       "description_width": ""
      }
     },
     "43d0db28a9fc4b01a2768b1bb678d12e": {
      "model_module": "@jupyter-widgets/controls",
      "model_module_version": "1.5.0",
      "model_name": "DescriptionStyleModel",
      "state": {
       "description_width": ""
      }
     },
     "4bb25a62c44e4a1ea4ef4cd80a41d08b": {
      "model_module": "@jupyter-widgets/controls",
      "model_module_version": "1.5.0",
      "model_name": "DescriptionStyleModel",
      "state": {
       "description_width": ""
      }
     },
     "51facf236fd04db4b08c9f251509d1a1": {
      "model_module": "@jupyter-widgets/controls",
      "model_module_version": "1.5.0",
      "model_name": "DescriptionStyleModel",
      "state": {
       "description_width": ""
      }
     },
     "57612c17e6a9455893b9c4bf8df2465e": {
      "model_module": "@jupyter-widgets/base",
      "model_module_version": "1.2.0",
      "model_name": "LayoutModel",
      "state": {
       "grid_area": "right",
       "padding": "0px 0px 0px 0px",
       "width": "70px"
      }
     },
     "75f4fe465e944fe693626e48a3a1e03d": {
      "model_module": "@jupyter-widgets/base",
      "model_module_version": "1.2.0",
      "model_name": "LayoutModel",
      "state": {
       "width": "145px"
      }
     },
     "976108a3eb904ae2a0150e1afeb34c67": {
      "model_module": "@jupyter-widgets/controls",
      "model_module_version": "1.5.0",
      "model_name": "GridBoxModel",
      "state": {
       "children": [
        "IPY_MODEL_de34249e18e84555a61cc86828d7d4cb"
       ],
       "layout": "IPY_MODEL_cb4649aa871e4c4892d127bb41e112db"
      }
     },
     "b1878cfd1def44c2bb875301cad56db0": {
      "model_module": "@jupyter-widgets/controls",
      "model_module_version": "1.5.0",
      "model_name": "HTMLModel",
      "state": {
       "layout": "IPY_MODEL_ba4c86a860a04d78be2e7851a0e68c31",
       "style": "IPY_MODEL_4bb25a62c44e4a1ea4ef4cd80a41d08b",
       "value": "<h5>Job ID</h5>"
      }
     },
     "ba4c86a860a04d78be2e7851a0e68c31": {
      "model_module": "@jupyter-widgets/base",
      "model_module_version": "1.2.0",
      "model_name": "LayoutModel",
      "state": {
       "width": "190px"
      }
     },
     "c463079fee6246d090ad2c7c62cbbdb6": {
      "model_module": "@jupyter-widgets/controls",
      "model_module_version": "1.5.0",
      "model_name": "ButtonStyleModel",
      "state": {}
     },
     "c48cda6136974087ae3a790e6bbe777f": {
      "model_module": "@jupyter-widgets/controls",
      "model_module_version": "1.5.0",
      "model_name": "HTMLModel",
      "state": {
       "layout": "IPY_MODEL_154f3a5857a3441996d5ff484b66fc7a",
       "style": "IPY_MODEL_385f699f53e5454fab7ec54ebf7bf3d4",
       "value": "<h5>Queue</h5>"
      }
     },
     "cb4649aa871e4c4892d127bb41e112db": {
      "model_module": "@jupyter-widgets/base",
      "model_module_version": "1.2.0",
      "model_name": "LayoutModel",
      "state": {
       "grid_template_areas": "\n                                       \". . . . right \"\n                                        ",
       "grid_template_columns": "20% 20% 20% 20% 20%",
       "width": "100%"
      }
     },
     "d00f9f38e4e04021b636c055a56b9f4b": {
      "model_module": "@jupyter-widgets/controls",
      "model_module_version": "1.5.0",
      "model_name": "HTMLModel",
      "state": {
       "layout": "IPY_MODEL_75f4fe465e944fe693626e48a3a1e03d",
       "style": "IPY_MODEL_d722a5d4630646daa33cb451d39f019f",
       "value": "<h5>Backend</h5>"
      }
     },
     "d722a5d4630646daa33cb451d39f019f": {
      "model_module": "@jupyter-widgets/controls",
      "model_module_version": "1.5.0",
      "model_name": "DescriptionStyleModel",
      "state": {
       "description_width": ""
      }
     },
     "da8cedfc64b447fba266e905e010e885": {
      "model_module": "@jupyter-widgets/base",
      "model_module_version": "1.2.0",
      "model_name": "LayoutModel",
      "state": {
       "margin": "0px 0px 10px 0px"
      }
     },
     "dacb7567199e4d0ba7171fbbf510f2e1": {
      "model_module": "@jupyter-widgets/controls",
      "model_module_version": "1.5.0",
      "model_name": "HTMLModel",
      "state": {
       "layout": "IPY_MODEL_e787e30112a04b6b9b15e0aadceef680",
       "style": "IPY_MODEL_43d0db28a9fc4b01a2768b1bb678d12e",
       "value": "<h5>Status</h5>"
      }
     },
     "de34249e18e84555a61cc86828d7d4cb": {
      "model_module": "@jupyter-widgets/controls",
      "model_module_version": "1.5.0",
      "model_name": "ButtonModel",
      "state": {
       "button_style": "primary",
       "description": "Clear",
       "layout": "IPY_MODEL_57612c17e6a9455893b9c4bf8df2465e",
       "style": "IPY_MODEL_c463079fee6246d090ad2c7c62cbbdb6"
      }
     },
     "e5d8b6352ad14343b20e19d7d258be6b": {
      "model_module": "@jupyter-widgets/controls",
      "model_module_version": "1.5.0",
      "model_name": "HTMLModel",
      "state": {
       "layout": "IPY_MODEL_edbeb72563724516a1530f03afd01b93",
       "style": "IPY_MODEL_222baf614ae44b95b87eb2429199d4de",
       "value": "<h5>Message</h5>"
      }
     },
     "e787e30112a04b6b9b15e0aadceef680": {
      "model_module": "@jupyter-widgets/base",
      "model_module_version": "1.2.0",
      "model_name": "LayoutModel",
      "state": {
       "width": "95px"
      }
     },
     "edbeb72563724516a1530f03afd01b93": {
      "model_module": "@jupyter-widgets/base",
      "model_module_version": "1.2.0",
      "model_name": "LayoutModel",
      "state": {}
     },
     "eee3b93bf696412781795ceed78c8692": {
      "model_module": "@jupyter-widgets/controls",
      "model_module_version": "1.5.0",
      "model_name": "HBoxModel",
      "state": {
       "children": [
        "IPY_MODEL_b1878cfd1def44c2bb875301cad56db0",
        "IPY_MODEL_d00f9f38e4e04021b636c055a56b9f4b",
        "IPY_MODEL_dacb7567199e4d0ba7171fbbf510f2e1",
        "IPY_MODEL_c48cda6136974087ae3a790e6bbe777f",
        "IPY_MODEL_e5d8b6352ad14343b20e19d7d258be6b"
       ],
       "layout": "IPY_MODEL_f5c5a691c2174841a477736e2578e75e"
      }
     },
     "f5c5a691c2174841a477736e2578e75e": {
      "model_module": "@jupyter-widgets/base",
      "model_module_version": "1.2.0",
      "model_name": "LayoutModel",
      "state": {
       "margin": "0px 0px 0px 37px",
       "width": "600px"
      }
     }
    },
    "version_major": 2,
    "version_minor": 0
   }
  }
 },
 "nbformat": 4,
 "nbformat_minor": 5
}
